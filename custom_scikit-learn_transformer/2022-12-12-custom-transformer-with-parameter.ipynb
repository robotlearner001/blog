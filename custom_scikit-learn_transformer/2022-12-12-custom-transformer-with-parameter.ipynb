{
 "cells": [
  {
   "cell_type": "markdown",
   "metadata": {},
   "source": [
    "A customer scikit-learn transfomer example with parameter.\n",
    "It takes a pandas DataFrame with a column called input as input, and returns a DataFrame with a column called output containing the transformed data:"
   ]
  },
  {
   "cell_type": "markdown",
   "metadata": {},
   "source": [
    "## define custom transformer"
   ]
  },
  {
   "cell_type": "code",
   "execution_count": 1,
   "metadata": {},
   "outputs": [],
   "source": [
    "import pandas as pd\n",
    "from sklearn.base import BaseEstimator, TransformerMixin\n",
    "\n",
    "class PowerTransformer(BaseEstimator, TransformerMixin):\n",
    "    def __init__(self, power=1):\n",
    "        self.power = power\n",
    "\n",
    "    def fit(self, X, y=None):\n",
    "        # Fit simply returns self, nothing else to do\n",
    "        return self\n",
    "\n",
    "    def transform(self, X):\n",
    "        # Check if input is a DataFrame\n",
    "        if isinstance(X, pd.DataFrame):\n",
    "            # If so, return a DataFrame with the transformed data\n",
    "            return pd.DataFrame({'output': X['input'] ** self.power})\n",
    "        else:\n",
    "            # If not, return a plain NumPy array with the transformed data\n",
    "            return X['input'] ** self.power\n"
   ]
  },
  {
   "cell_type": "markdown",
   "metadata": {},
   "source": [
    "To use this transformer, we would first instantiate it with the desired power parameter, and then call its fit_transform method on a DataFrame with an input column. For example:"
   ]
  },
  {
   "cell_type": "markdown",
   "metadata": {},
   "source": [
    "## generate some sample data and dataframe"
   ]
  },
  {
   "cell_type": "code",
   "execution_count": 3,
   "metadata": {},
   "outputs": [
    {
     "name": "stdout",
     "output_type": "stream",
     "text": [
      "      input\n",
      "0 -1.460135\n",
      "1  0.188532\n",
      "2 -0.272600\n",
      "3  0.306880\n",
      "4 -0.221020\n"
     ]
    }
   ],
   "source": [
    "import numpy as np\n",
    "import pandas as pd\n",
    "\n",
    "# Generate some sample data\n",
    "data = np.random.randn(5)\n",
    "\n",
    "# Create a DataFrame with an 'input' column\n",
    "X = pd.DataFrame({'input': data})\n",
    "\n",
    "# Print the DataFrame\n",
    "print(X)\n"
   ]
  },
  {
   "cell_type": "markdown",
   "metadata": {},
   "source": [
    "## use the transfomer, with parameter intilization"
   ]
  },
  {
   "cell_type": "code",
   "execution_count": 7,
   "metadata": {},
   "outputs": [
    {
     "name": "stdout",
     "output_type": "stream",
     "text": [
      "     output\n",
      "0  2.131994\n",
      "1  0.035544\n",
      "2  0.074311\n",
      "3  0.094175\n",
      "4  0.048850\n"
     ]
    }
   ],
   "source": [
    "# Create the transformer\n",
    "transformer = PowerTransformer(power=2)\n",
    "\n",
    "# Fit and transform the data\n",
    "X_transformed = transformer.fit_transform(X)\n",
    "\n",
    "print(X_transformed)"
   ]
  },
  {
   "cell_type": "markdown",
   "metadata": {},
   "source": [
    "## possible error:  Parameter sees none value"
   ]
  },
  {
   "cell_type": "markdown",
   "metadata": {},
   "source": [
    "the above example shows some practices: (1) the transformer have an default value in the init function (2) when calling the transfomer\n",
    "    make sure to have the parameter=value format\n",
    "    \n",
    "    We can skip the parameter name like this, it will work for one time use:\n",
    "```transformer = PowerTransformer(2)   ```\n",
    "\n",
    "But it will raise None error in using with other methos such as ``` sklearn.model_selection.cross_val_score ```"
   ]
  }
 ],
 "metadata": {
  "kernelspec": {
   "display_name": "Python 3",
   "language": "python",
   "name": "python3"
  },
  "language_info": {
   "codemirror_mode": {
    "name": "ipython",
    "version": 3
   },
   "file_extension": ".py",
   "mimetype": "text/x-python",
   "name": "python",
   "nbconvert_exporter": "python",
   "pygments_lexer": "ipython3",
   "version": "3.8.5"
  }
 },
 "nbformat": 4,
 "nbformat_minor": 4
}
