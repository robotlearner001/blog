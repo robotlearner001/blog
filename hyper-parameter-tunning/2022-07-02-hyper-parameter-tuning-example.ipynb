{
 "cells": [
  {
   "cell_type": "code",
   "execution_count": 5,
   "metadata": {},
   "outputs": [],
   "source": [
    "import numpy as np\n",
    "import os\n",
    "from sklearn.datasets import fetch_20newsgroups\n",
    "from sklearn.model_selection import cross_val_score\n",
    "from sklearn.metrics import f1_score\n",
    "from sklearn.feature_extraction.text import TfidfVectorizer\n",
    "from sklearn.pipeline import Pipeline\n",
    "import joblib\n",
    "from lightgbm import LGBMClassifier\n",
    "from sklearn.ensemble import RandomForestClassifier\n",
    "\n",
    "import optuna"
   ]
  },
  {
   "cell_type": "code",
   "execution_count": 3,
   "metadata": {},
   "outputs": [
    {
     "name": "stdout",
     "output_type": "stream",
     "text": [
      "2.10.1\n"
     ]
    }
   ],
   "source": [
    "print(optuna.__version__)"
   ]
  },
  {
   "cell_type": "code",
   "execution_count": 4,
   "metadata": {},
   "outputs": [],
   "source": [
    "data = fetch_20newsgroups()\n",
    "\n",
    "X = data['data'][:5000]\n",
    "y = data['target'][:5000]"
   ]
  },
  {
   "cell_type": "code",
   "execution_count": 6,
   "metadata": {},
   "outputs": [],
   "source": [
    "model = Pipeline([\n",
    "    ('tfidf', TfidfVectorizer(stop_words='english')),   \n",
    "    ('rf', RandomForestClassifier())\n",
    "])"
   ]
  },
  {
   "cell_type": "code",
   "execution_count": 8,
   "metadata": {},
   "outputs": [],
   "source": [
    "def objective(trial):    \n",
    "    \n",
    "    joblib.dump(study, 'study.pkl')\n",
    "    \n",
    "    tfidf__analyzer = trial.suggest_categorical('tfidf__analyzer', ['word', 'char', 'char_wb']) \n",
    "    tfidf__lowercase = trial.suggest_categorical('tfidf__lowercase', [False, True]) \n",
    "    tfidf__max_features = trial.suggest_int('tfidf__max_features', 500, 10_000) \n",
    "    rf__n_estimators = trial.suggest_int('rf__num_estimators', 300, 500) \n",
    "    rf__max_depth = trial.suggest_int('rf__max_depth', 5, 15) \n",
    "    rf__min_samples_split = trial.suggest_int('rf__min_samples_split', 10, 30) \n",
    "    \n",
    "   \n",
    "    \n",
    "\n",
    "    params = {\n",
    "        'tfidf__analyzer': tfidf__analyzer,\n",
    "        'tfidf__lowercase': tfidf__lowercase,\n",
    "        'tfidf__max_features': tfidf__max_features,\n",
    "        'rf__n_estimators': rf__n_estimators,\n",
    "        'rf__max_depth': rf__max_depth,\n",
    "        'rf__min_samples_split': rf__min_samples_split,\n",
    "       \n",
    "    }\n",
    "    \n",
    "    model.set_params(**params)\n",
    "\n",
    "    return  -np.mean(cross_val_score(model, X, y, cv=3, n_jobs=-1,scoring='neg_log_loss'))"
   ]
  },
  {
   "cell_type": "code",
   "execution_count": 12,
   "metadata": {},
   "outputs": [
    {
     "name": "stderr",
     "output_type": "stream",
     "text": [
      "\u001b[32m[I 2022-07-02 18:02:45,482]\u001b[0m A new study created in memory with name: no-name-93fec9e1-ee73-43cd-874d-86cec23855b8\u001b[0m\n",
      "\u001b[32m[I 2022-07-02 18:02:56,828]\u001b[0m Trial 0 finished with value: 2.547156150826899 and parameters: {'tfidf__analyzer': 'char_wb', 'tfidf__lowercase': False, 'tfidf__max_features': 9902, 'rf__num_estimators': 314, 'rf__max_depth': 7, 'rf__min_samples_split': 30}. Best is trial 0 with value: 2.547156150826899.\u001b[0m\n",
      "\u001b[32m[I 2022-07-02 18:03:04,139]\u001b[0m Trial 1 finished with value: 2.613899734292334 and parameters: {'tfidf__analyzer': 'char', 'tfidf__lowercase': True, 'tfidf__max_features': 1537, 'rf__num_estimators': 385, 'rf__max_depth': 6, 'rf__min_samples_split': 11}. Best is trial 0 with value: 2.547156150826899.\u001b[0m\n",
      "\u001b[32m[I 2022-07-02 18:03:15,746]\u001b[0m Trial 2 finished with value: 2.5160821688053225 and parameters: {'tfidf__analyzer': 'char', 'tfidf__lowercase': False, 'tfidf__max_features': 4277, 'rf__num_estimators': 442, 'rf__max_depth': 8, 'rf__min_samples_split': 14}. Best is trial 2 with value: 2.5160821688053225.\u001b[0m\n",
      "\u001b[32m[I 2022-07-02 18:03:33,246]\u001b[0m Trial 3 finished with value: 2.4320376654433877 and parameters: {'tfidf__analyzer': 'char_wb', 'tfidf__lowercase': True, 'tfidf__max_features': 8522, 'rf__num_estimators': 392, 'rf__max_depth': 14, 'rf__min_samples_split': 16}. Best is trial 3 with value: 2.4320376654433877.\u001b[0m\n",
      "\u001b[32m[I 2022-07-02 18:03:42,219]\u001b[0m Trial 4 finished with value: 2.6097990258070243 and parameters: {'tfidf__analyzer': 'char_wb', 'tfidf__lowercase': True, 'tfidf__max_features': 4452, 'rf__num_estimators': 310, 'rf__max_depth': 6, 'rf__min_samples_split': 26}. Best is trial 3 with value: 2.4320376654433877.\u001b[0m\n",
      "\u001b[32m[I 2022-07-02 18:03:58,737]\u001b[0m Trial 5 finished with value: 2.3869219829795862 and parameters: {'tfidf__analyzer': 'char', 'tfidf__lowercase': False, 'tfidf__max_features': 2107, 'rf__num_estimators': 380, 'rf__max_depth': 15, 'rf__min_samples_split': 12}. Best is trial 5 with value: 2.3869219829795862.\u001b[0m\n",
      "\u001b[32m[I 2022-07-02 18:04:03,098]\u001b[0m Trial 6 finished with value: 2.0759476630082925 and parameters: {'tfidf__analyzer': 'word', 'tfidf__lowercase': False, 'tfidf__max_features': 4599, 'rf__num_estimators': 456, 'rf__max_depth': 13, 'rf__min_samples_split': 13}. Best is trial 6 with value: 2.0759476630082925.\u001b[0m\n",
      "\u001b[32m[I 2022-07-02 18:04:13,861]\u001b[0m Trial 7 finished with value: 2.5823522061466235 and parameters: {'tfidf__analyzer': 'char_wb', 'tfidf__lowercase': False, 'tfidf__max_features': 6607, 'rf__num_estimators': 406, 'rf__max_depth': 6, 'rf__min_samples_split': 13}. Best is trial 6 with value: 2.0759476630082925.\u001b[0m\n",
      "\u001b[32m[I 2022-07-02 18:04:16,417]\u001b[0m Trial 8 finished with value: 2.421851309632254 and parameters: {'tfidf__analyzer': 'word', 'tfidf__lowercase': True, 'tfidf__max_features': 9704, 'rf__num_estimators': 335, 'rf__max_depth': 6, 'rf__min_samples_split': 14}. Best is trial 6 with value: 2.0759476630082925.\u001b[0m\n",
      "\u001b[32m[I 2022-07-02 18:04:27,727]\u001b[0m Trial 9 finished with value: 2.5248367651393155 and parameters: {'tfidf__analyzer': 'char', 'tfidf__lowercase': False, 'tfidf__max_features': 6844, 'rf__num_estimators': 495, 'rf__max_depth': 8, 'rf__min_samples_split': 26}. Best is trial 6 with value: 2.0759476630082925.\u001b[0m\n",
      "\u001b[32m[I 2022-07-02 18:04:32,088]\u001b[0m Trial 10 finished with value: 2.0869744372787977 and parameters: {'tfidf__analyzer': 'word', 'tfidf__lowercase': False, 'tfidf__max_features': 2764, 'rf__num_estimators': 488, 'rf__max_depth': 12, 'rf__min_samples_split': 19}. Best is trial 6 with value: 2.0759476630082925.\u001b[0m\n",
      "\u001b[32m[I 2022-07-02 18:04:36,544]\u001b[0m Trial 11 finished with value: 2.082998721962783 and parameters: {'tfidf__analyzer': 'word', 'tfidf__lowercase': False, 'tfidf__max_features': 2485, 'rf__num_estimators': 497, 'rf__max_depth': 12, 'rf__min_samples_split': 19}. Best is trial 6 with value: 2.0759476630082925.\u001b[0m\n",
      "\u001b[32m[I 2022-07-02 18:04:40,480]\u001b[0m Trial 12 finished with value: 2.146625419212849 and parameters: {'tfidf__analyzer': 'word', 'tfidf__lowercase': False, 'tfidf__max_features': 3474, 'rf__num_estimators': 457, 'rf__max_depth': 11, 'rf__min_samples_split': 20}. Best is trial 6 with value: 2.0759476630082925.\u001b[0m\n",
      "\u001b[32m[I 2022-07-02 18:04:45,642]\u001b[0m Trial 13 finished with value: 2.047228077579845 and parameters: {'tfidf__analyzer': 'word', 'tfidf__lowercase': False, 'tfidf__max_features': 587, 'rf__num_estimators': 459, 'rf__max_depth': 13, 'rf__min_samples_split': 18}. Best is trial 13 with value: 2.047228077579845.\u001b[0m\n",
      "\u001b[32m[I 2022-07-02 18:04:50,599]\u001b[0m Trial 14 finished with value: 2.015546154151829 and parameters: {'tfidf__analyzer': 'word', 'tfidf__lowercase': False, 'tfidf__max_features': 814, 'rf__num_estimators': 441, 'rf__max_depth': 13, 'rf__min_samples_split': 17}. Best is trial 14 with value: 2.015546154151829.\u001b[0m\n",
      "\u001b[32m[I 2022-07-02 18:04:54,615]\u001b[0m Trial 15 finished with value: 2.150121140336936 and parameters: {'tfidf__analyzer': 'word', 'tfidf__lowercase': False, 'tfidf__max_features': 707, 'rf__num_estimators': 423, 'rf__max_depth': 10, 'rf__min_samples_split': 23}. Best is trial 14 with value: 2.015546154151829.\u001b[0m\n",
      "\u001b[32m[I 2022-07-02 18:05:00,670]\u001b[0m Trial 16 finished with value: 2.010165672591136 and parameters: {'tfidf__analyzer': 'word', 'tfidf__lowercase': False, 'tfidf__max_features': 552, 'rf__num_estimators': 469, 'rf__max_depth': 15, 'rf__min_samples_split': 17}. Best is trial 16 with value: 2.010165672591136.\u001b[0m\n",
      "\u001b[32m[I 2022-07-02 18:05:04,887]\u001b[0m Trial 17 finished with value: 2.0324440227491474 and parameters: {'tfidf__analyzer': 'word', 'tfidf__lowercase': False, 'tfidf__max_features': 6054, 'rf__num_estimators': 429, 'rf__max_depth': 15, 'rf__min_samples_split': 23}. Best is trial 16 with value: 2.010165672591136.\u001b[0m\n",
      "\u001b[32m[I 2022-07-02 18:05:08,310]\u001b[0m Trial 18 finished with value: 2.0846924863233784 and parameters: {'tfidf__analyzer': 'word', 'tfidf__lowercase': True, 'tfidf__max_features': 1408, 'rf__num_estimators': 358, 'rf__max_depth': 10, 'rf__min_samples_split': 16}. Best is trial 16 with value: 2.010165672591136.\u001b[0m\n",
      "\u001b[32m[I 2022-07-02 18:05:13,050]\u001b[0m Trial 19 finished with value: 2.0117719722671397 and parameters: {'tfidf__analyzer': 'word', 'tfidf__lowercase': False, 'tfidf__max_features': 3260, 'rf__num_estimators': 470, 'rf__max_depth': 14, 'rf__min_samples_split': 10}. Best is trial 16 with value: 2.010165672591136.\u001b[0m\n"
     ]
    },
    {
     "data": {
      "text/plain": [
       "['study.pkl']"
      ]
     },
     "execution_count": 12,
     "metadata": {},
     "output_type": "execute_result"
    }
   ],
   "source": [
    "# by default, the direction is to minimizae, but can set it to maximize too\n",
    "#study = optuna.create_study(direction='minimize')\n",
    "study = optuna.create_study()\n",
    "\n",
    "\n",
    "#study.optimize(objective, timeout=3600)\n",
    "study.optimize(objective, n_trials=20)\n",
    "\n",
    "\n",
    "# to recoard the value for the last time\n",
    "joblib.dump(study, 'study.pkl')"
   ]
  }
 ],
 "metadata": {
  "kernelspec": {
   "display_name": "Python 3",
   "language": "python",
   "name": "python3"
  },
  "language_info": {
   "codemirror_mode": {
    "name": "ipython",
    "version": 3
   },
   "file_extension": ".py",
   "mimetype": "text/x-python",
   "name": "python",
   "nbconvert_exporter": "python",
   "pygments_lexer": "ipython3",
   "version": "3.7.4"
  }
 },
 "nbformat": 4,
 "nbformat_minor": 2
}
